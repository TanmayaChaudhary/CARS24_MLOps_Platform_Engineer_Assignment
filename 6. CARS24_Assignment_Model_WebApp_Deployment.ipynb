{
 "cells": [
  {
   "cell_type": "markdown",
   "metadata": {},
   "source": [
    "# Deployment of our Best Model using FastAPI."
   ]
  },
  {
   "cell_type": "code",
   "execution_count": 1,
   "metadata": {},
   "outputs": [
    {
     "name": "stdout",
     "output_type": "stream",
     "text": [
      "Writing app.py\n"
     ]
    }
   ],
   "source": [
    "%%writefile app.py\n",
    "\n",
    "############################################################################################################################################################################\n",
    "#                                                      Web application for MNIST Neural Netrowk Model using FastAPI \n",
    "############################################################################################################################################################################\n",
    "\n",
    "# Libraries.\n",
    "import logging\n",
    "from logging.handlers import RotatingFileHandler\n",
    "from fastapi import FastAPI, File, UploadFile\n",
    "from fastapi.responses import JSONResponse\n",
    "from keras.models import load_model\n",
    "from PIL import Image\n",
    "import numpy as np\n",
    "import io\n",
    "import os\n",
    "\n",
    "# Configure logging to both console and file.\n",
    "logging.basicConfig(level=logging.INFO)\n",
    "logger = logging.getLogger(__name__)\n",
    "formatter = logging.Formatter('%(asctime)s - %(name)s - %(levelname)s - %(message)s')\n",
    "\n",
    "# Create a file handler and set the log file name.\n",
    "file_handler = RotatingFileHandler('app_logs.log', maxBytes=1024*1024, backupCount=3)\n",
    "file_handler.setFormatter(formatter)\n",
    "logger.addHandler(file_handler)\n",
    "\n",
    "\n",
    "# Get the current working directory.\n",
    "base_dir = os.path.dirname(os.path.abspath(__file__))\n",
    "\n",
    "# Define the path to the model file relative to the current working directory.\n",
    "model_path = os.path.join(base_dir, \"Best_Model/model.h5\")\n",
    "# print(f\"Model Path : {model_path}\")\n",
    "logger.info(f\"Model Path : {model_path}\")\n",
    "\n",
    "\n",
    "# Load the saved model.\n",
    "loaded_model = load_model(model_path)\n",
    "# print(\"Model Loaded Successfully !!\")\n",
    "logger.info(\"Model Loaded Successfully !!\")\n",
    "\n",
    "\n",
    "# Initialize the FastAPI app.\n",
    "app = FastAPI()\n",
    "# print(\"FastAPI Initialized Successfully !!\")\n",
    "logger.info(\"FastAPI Initialized Successfully !!\")\n",
    "\n",
    "# Define a function to preprocess the image.\n",
    "def preprocess_image(image_bytes):\n",
    "    img = Image.open(io.BytesIO(image_bytes))\n",
    "    img = img.resize((28, 28))                       # Resize the image to match the model's input shape\n",
    "    img_array = np.array(img)\n",
    "    img_array = img_array[:, :, 0]                   # Convert to grayscale\n",
    "    img_array = img_array.reshape((1, 28, 28, 1))    # Add batch dimension\n",
    "    img_array = img_array.astype('float32') / 255.0  # Normalize pixel values\n",
    "    return img_array\n",
    "\n",
    "# Define a route to accept image uploads and make predictions.\n",
    "@app.post(\"/predict/\")\n",
    "async def predict(file: UploadFile = File(...)):\n",
    "    try:\n",
    "        # Read and preprocess the uploaded image.\n",
    "        image_bytes = await file.read()\n",
    "        img_array = preprocess_image(image_bytes)\n",
    "        \n",
    "        # Make a prediction using the loaded model.\n",
    "        prediction = np.argmax(loaded_model.predict(img_array))\n",
    "        \n",
    "        # Log the prediction & return the prediction as JSON.\n",
    "        logger.info(f\"Prediction: {str(prediction)}\")\n",
    "        return JSONResponse(content={\"prediction\": str(prediction)}, status_code=200)\n",
    "    \n",
    "    except Exception as e:\n",
    "    \n",
    "        # Log the error and return an error message if prediction fails\n",
    "        logger.error(f\"Prediction failed: {e}\")\n",
    "        return JSONResponse(content={\"error\": str(e)}, status_code=500)\n",
    "\n",
    "# Run the FastAPI app.\n",
    "if __name__ == \"__main__\":\n",
    "    import uvicorn\n",
    "    uvicorn.run(app, host=\"0.0.0.0\", port=8000)\n",
    "\n",
    "\n",
    "################################## Command to run this app ######################################\n",
    "    \n",
    "# Open CMD & activate your virtual environment & then run the below command :=> \n",
    "#      uvicorn app:app --reload\n",
    "    \n",
    "#################################################################################################\n"
   ]
  },
  {
   "cell_type": "markdown",
   "metadata": {},
   "source": [
    "## Testing the deployed model."
   ]
  },
  {
   "cell_type": "markdown",
   "metadata": {},
   "source": [
    "### Starting the Uvicorn Server First.\n",
    "### Go to CMD -> Type command -> ***uvicorn app:app --reload***"
   ]
  },
  {
   "cell_type": "code",
   "execution_count": 8,
   "metadata": {},
   "outputs": [
    {
     "data": {
      "image/png": "[encoded data removed]",
      "text/plain": [
       "<Figure size 640x480 with 1 Axes>"
      ]
     },
     "metadata": {},
     "output_type": "display_data"
    },
    {
     "name": "stdout",
     "output_type": "stream",
     "text": [
      "{\"prediction\":\"4\"}\n",
      "Prediction From Model: 4\n"
     ]
    }
   ],
   "source": [
    "import requests\n",
    "import json\n",
    "import matplotlib.image as mpimg\n",
    "import matplotlib.pyplot as plt\n",
    "\n",
    "\n",
    "# Path to the image to test.\n",
    "#image_path = \"inference_images/3.png\"  # Image of 1\n",
    "image_path = \"inference_images/2.png\"  # Image of 4  \n",
    "\n",
    "# Read the image\n",
    "image = mpimg.imread(image_path)\n",
    "# Show the image\n",
    "plt.imshow(image)\n",
    "plt.title(\"Original Image\")\n",
    "plt.axis('off')  # Turn off axis numbers\n",
    "plt.show()\n",
    "\n",
    "\n",
    "##########  Testing the API Below ##########\n",
    "\n",
    "# URL of your FastAPI server\n",
    "url = \"http://localhost:8000/predict/\"\n",
    "\n",
    "# Read the image file as binary\n",
    "with open(image_path, \"rb\") as file:\n",
    "    image_bytes = file.read()\n",
    "\n",
    "# Send a POST request to the FastAPI server\n",
    "response = requests.post(url, files={\"file\": image_bytes})\n",
    "\n",
    "# Print the response\n",
    "print(response.text)\n",
    "\n",
    "# Parse the JSON response\n",
    "response_json = json.loads(response.text)\n",
    "prediction = response_json[\"prediction\"]\n",
    "print(\"Prediction From Model:\", prediction)\n"
   ]
  },
  {
   "cell_type": "code",
   "execution_count": 3,
   "metadata": {},
   "outputs": [],
   "source": [
    "!pip freeze > requirements.txt"
   ]
  },
  {
   "cell_type": "code",
   "execution_count": 4,
   "metadata": {},
   "outputs": [
    {
     "data": {
      "text/plain": [
       "'0.22.0'"
      ]
     },
     "execution_count": 4,
     "metadata": {},
     "output_type": "execute_result"
    }
   ],
   "source": []
  },
  {
   "cell_type": "code",
   "execution_count": null,
   "metadata": {},
   "outputs": [],
   "source": []
  }
 ],
 "metadata": {
  "kernelspec": {
   "display_name": "CARS24",
   "language": "python",
   "name": "python3"
  },
  "language_info": {
   "codemirror_mode": {
    "name": "ipython",
    "version": 3
   },
   "file_extension": ".py",
   "mimetype": "text/x-python",
   "name": "python",
   "nbconvert_exporter": "python",
   "pygments_lexer": "ipython3",
   "version": "3.7.16"
  }
 },
 "nbformat": 4,
 "nbformat_minor": 2
}
