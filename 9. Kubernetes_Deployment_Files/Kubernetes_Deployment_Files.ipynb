{
 "cells": [
  {
   "cell_type": "markdown",
   "metadata": {},
   "source": [
    "# Kubernetes Deployment Files For The Deployment Of FastAPI Web App Where We Deployed Our Best Model (Neural Network Mode) For MNIST Dataset."
   ]
  },
  {
   "cell_type": "markdown",
   "metadata": {},
   "source": [
    "- ### To deploy the FastAPI application on Kubernetes, we'll need to create **Kubernetes deployment** and **service YAML files**. \n",
    "- ### Below are the files definitions to this:"
   ]
  },
  {
   "cell_type": "markdown",
   "metadata": {},
   "source": [
    "### **1. Deployment YAML File : deployment.yaml**\n",
    "\n",
    "Replace *your-docker-username* with your actual Docker Hub username or the registry where your Docker image is hosted.\n",
    "\n",
    "\n",
    "- ### **A. Working:** This file defines a Kubernetes Deployment, which manages a replicated application. It specifies the Docker image to use, the number of replicas (pods) to run, and other settings related to the deployment.\n",
    "\n",
    "- ### **B. Importance:**\n",
    "    - #### **1. Replicas:** The replicas field specifies the number of identical pods that should be running at any given time. In this case, it's set to 2, so Kubernetes will ensure that there are always two instances of the FastAPI application running.\n",
    "    - #### **2. Selector:** The selector field defines how the Deployment finds which pods to manage. It uses labels (app: fastapi) to select pods with matching labels.\n",
    "    - #### **3. Container Definition:** The containers section defines the Docker container to run. It specifies the Docker image (your-docker-username/fastapi-app:latest), the port to expose (8000), and any environment variables (ENVIRONMENT=production)."
   ]
  },
  {
   "cell_type": "code",
   "execution_count": 2,
   "metadata": {},
   "outputs": [
    {
     "name": "stdout",
     "output_type": "stream",
     "text": [
      "Overwriting deployment.yaml\n"
     ]
    }
   ],
   "source": [
    "%%writefile deployment.yaml\n",
    "apiVersion: apps/v1\n",
    "kind: Deployment\n",
    "metadata:\n",
    "  name: fastapi-deployment                              # Name of the deployment\n",
    "spec:\n",
    "  replicas: 2                                           # Number of replicas (pods) to run\n",
    "  selector:\n",
    "    matchLabels:\n",
    "      app: fastapi                                      # Selector to match pods controlled by this deployment\n",
    "  template:\n",
    "    metadata:\n",
    "      labels:\n",
    "        app: fastapi                                    # Labels to apply to pods created by this template\n",
    "    spec:\n",
    "      containers:\n",
    "      - name: fastapi-container                         # Name of the container\n",
    "        image: your-docker-username/fastapi-app:latest  # Docker image to use for the container\n",
    "        ports:\n",
    "        - containerPort: 8000                           # Port to expose on the container\n",
    "        env:                                              # Environment variables for the pod\n",
    "        - name: ENVIRONMENT\n",
    "          value: production"
   ]
  },
  {
   "cell_type": "markdown",
   "metadata": {},
   "source": [
    "### **2. Service YAML : service.yaml**\n",
    "This service YAML exposes the FastAPI application outside the Kubernetes cluster using a LoadBalancer.\n",
    "\n",
    "\n",
    "- ### **A. Working:** This file defines a Kubernetes Service, which is an abstraction that defines a logical set of pods and a policy by which to access them. It acts as a load balancer for the pods.\n",
    "\n",
    "- ### **B. Importance:**\n",
    "    - #### **1. Selector:** The selector field specifies which pods the service should target. In this case, it targets pods with the label app: fastapi, which matches the label used in the Deployment.\n",
    "    - #### **2. Ports:** The ports section defines the ports that the service should expose. It specifies that port 8000 on the service should forward traffic to port 8000 on the pods.\n",
    "    - #### **3. Type:** The type field defines how the service is exposed. LoadBalancer type indicates that the service should be exposed externally using a cloud provider's load balancer."
   ]
  },
  {
   "cell_type": "code",
   "execution_count": 1,
   "metadata": {},
   "outputs": [
    {
     "name": "stdout",
     "output_type": "stream",
     "text": [
      "Writing service.yaml\n"
     ]
    }
   ],
   "source": [
    "%%writefile service.yaml\n",
    "apiVersion: v1\n",
    "kind: Service\n",
    "metadata:\n",
    "  name: fastapi-service      # Name of the service\n",
    "spec:\n",
    "  selector:\n",
    "    app: fastapi             # Selector to match pods that the service should target\n",
    "  ports:\n",
    "    - protocol: TCP\n",
    "      port: 8000             # Port on the service\n",
    "      targetPort: 8000       # Port on the pods\n",
    "  type: LoadBalancer         # Type of service (LoadBalancer for external access)\n"
   ]
  },
  {
   "cell_type": "markdown",
   "metadata": {},
   "source": [
    "- ### 3. Deploy to Kubernetes:\n",
    "Apply the deployment and service YAML files to your Kubernetes cluster:"
   ]
  },
  {
   "cell_type": "markdown",
   "metadata": {},
   "source": [
    "# Run the below bash commands:\n",
    "- kubectl apply -f deployment.yaml\n",
    "- kubectl apply -f service.yaml\n"
   ]
  },
  {
   "cell_type": "markdown",
   "metadata": {},
   "source": []
  }
 ],
 "metadata": {
  "kernelspec": {
   "display_name": "CARS24",
   "language": "python",
   "name": "python3"
  },
  "language_info": {
   "codemirror_mode": {
    "name": "ipython",
    "version": 3
   },
   "file_extension": ".py",
   "mimetype": "text/x-python",
   "name": "python",
   "nbconvert_exporter": "python",
   "pygments_lexer": "ipython3",
   "version": "3.7.16"
  }
 },
 "nbformat": 4,
 "nbformat_minor": 2
}
